{
  "nbformat": 4,
  "nbformat_minor": 0,
  "metadata": {
    "anaconda-cloud": {},
    "kernelspec": {
      "name": "python3",
      "display_name": "Python 3"
    },
    "language_info": {
      "codemirror_mode": {
        "name": "ipython",
        "version": 3
      },
      "file_extension": ".py",
      "mimetype": "text/x-python",
      "name": "python",
      "nbconvert_exporter": "python",
      "pygments_lexer": "ipython3",
      "version": "3.7.3"
    },
    "colab": {
      "name": "classification by neural network.ipynb",
      "provenance": [],
      "collapsed_sections": []
    },
    "accelerator": "GPU"
  },
  "cells": [
    {
      "cell_type": "markdown",
      "metadata": {
        "id": "ky3pkLeW5PrJ",
        "colab_type": "text"
      },
      "source": [
        "**Note** please use local  runtime by following [this tutorial](https://datasainslab.com/local-runtime-on-google-colab/)\n"
      ]
    },
    {
      "cell_type": "code",
      "metadata": {
        "id": "IOj8e179hws8",
        "colab_type": "code",
        "colab": {}
      },
      "source": [
        "!pip install opencv-python"
      ],
      "execution_count": 0,
      "outputs": []
    },
    {
      "cell_type": "code",
      "metadata": {
        "id": "aBnTJvsLgelD",
        "colab_type": "code",
        "colab": {}
      },
      "source": [
        "!pip install Keras"
      ],
      "execution_count": 0,
      "outputs": []
    },
    {
      "cell_type": "code",
      "metadata": {
        "id": "nJu-Lwmon50h",
        "colab_type": "code",
        "colab": {}
      },
      "source": [
        "!pip install pywin32==225"
      ],
      "execution_count": 0,
      "outputs": []
    },
    {
      "cell_type": "code",
      "metadata": {
        "id": "b5esBFRLqnsg",
        "colab_type": "code",
        "colab": {}
      },
      "source": [
        "!pip install numpy==1.17"
      ],
      "execution_count": 0,
      "outputs": []
    },
    {
      "cell_type": "code",
      "metadata": {
        "id": "Zr-h5D9xnafc",
        "colab_type": "code",
        "colab": {}
      },
      "source": [
        "!pip install seaborn"
      ],
      "execution_count": 0,
      "outputs": []
    },
    {
      "cell_type": "code",
      "metadata": {
        "id": "aKf3TkZspYQh",
        "colab_type": "code",
        "outputId": "d1cecb2f-5321-459d-dfd2-f63071ebf4b1",
        "colab": {
          "base_uri": "https://localhost:8080/",
          "height": 35
        }
      },
      "source": [
        "import numpy\n",
        "print(numpy.__version__)"
      ],
      "execution_count": 0,
      "outputs": [
        {
          "output_type": "stream",
          "text": [
            "1.17.0\n"
          ],
          "name": "stdout"
        }
      ]
    },
    {
      "cell_type": "code",
      "metadata": {
        "id": "WtVbZT9Y3YeB",
        "colab_type": "code",
        "colab": {}
      },
      "source": [
        "import os\n",
        "import pandas as pd\n",
        "from imageio import imread\n",
        "import math\n",
        "import numpy as np\n",
        "import cv2\n",
        "import keras\n",
        "import seaborn as sns\n",
        "from keras.layers import Dense, Dropout, Flatten, Input\n",
        "from keras.layers import Conv2D, MaxPooling2D\n",
        "from keras.layers import BatchNormalization\n",
        "from keras.optimizers import Adam\n",
        "from keras.models import Sequential"
      ],
      "execution_count": 0,
      "outputs": []
    },
    {
      "cell_type": "code",
      "metadata": {
        "id": "xMm4CnqC3mhF",
        "colab_type": "code",
        "outputId": "71460193-5118-4ecd-9fa8-2efac1fb700e",
        "colab": {
          "base_uri": "https://localhost:8080/",
          "height": 191
        }
      },
      "source": [
        "from google.colab import drive\n",
        "drive.mount('/content/drive')"
      ],
      "execution_count": 0,
      "outputs": [
        {
          "output_type": "error",
          "ename": "ModuleNotFoundError",
          "evalue": "ignored",
          "traceback": [
            "\u001b[1;31m---------------------------------------------------------------------------\u001b[0m",
            "\u001b[1;31mModuleNotFoundError\u001b[0m                       Traceback (most recent call last)",
            "\u001b[1;32m<ipython-input-8-d5df0069828e>\u001b[0m in \u001b[0;36m<module>\u001b[1;34m()\u001b[0m\n\u001b[1;32m----> 1\u001b[1;33m \u001b[1;32mfrom\u001b[0m \u001b[0mgoogle\u001b[0m\u001b[1;33m.\u001b[0m\u001b[0mcolab\u001b[0m \u001b[1;32mimport\u001b[0m \u001b[0mdrive\u001b[0m\u001b[1;33m\u001b[0m\u001b[0m\n\u001b[0m\u001b[0;32m      2\u001b[0m \u001b[0mdrive\u001b[0m\u001b[1;33m.\u001b[0m\u001b[0mmount\u001b[0m\u001b[1;33m(\u001b[0m\u001b[1;34m'/content/drive'\u001b[0m\u001b[1;33m)\u001b[0m\u001b[1;33m\u001b[0m\u001b[0m\n",
            "\u001b[1;31mModuleNotFoundError\u001b[0m: No module named 'google.colab'"
          ]
        }
      ]
    },
    {
      "cell_type": "code",
      "metadata": {
        "id": "Tt16utKOCd84",
        "colab_type": "code",
        "outputId": "3d8d2030-eeb4-4c91-c5e1-af433b164055",
        "colab": {
          "base_uri": "https://localhost:8080/",
          "height": 35
        }
      },
      "source": [
        "\n",
        "\n",
        "data_dir = os.path.abspath(r'C:\\users\\administrator\\Downloads\\GTSRB\\Final_Training\\Images')\n",
        "os.path.exists(data_dir)\n",
        "\n",
        "def resize_cv(im):\n",
        "    return cv2.resize(im, (64, 64), interpolation = cv2.INTER_LINEAR)\n",
        "\n",
        "list_images = []\n",
        "output = []\n",
        "for dir in os.listdir(data_dir):\n",
        "    if dir == '.DS_Store' :\n",
        "        continue\n",
        "    \n",
        "    inner_dir = os.path.join(data_dir, dir)\n",
        "    csv_file = pd.read_csv(os.path.join(inner_dir,\"GT-\" + dir + '.csv'), sep=';')\n",
        "    for row in csv_file.iterrows() :\n",
        "        img_path = os.path.join(inner_dir, row[1].Filename)\n",
        "        img = imread(img_path)\n",
        "        img = img[row[1]['Roi.X1']:row[1]['Roi.X2'],row[1]['Roi.Y1']:row[1]['Roi.Y2'],:]\n",
        "        img = resize_cv(img)\n",
        "        list_images.append(img)\n",
        "        output.append(row[1].ClassId)\n",
        "#print(list_images)\n",
        "print(len(list_images))"
      ],
      "execution_count": 0,
      "outputs": [
        {
          "output_type": "stream",
          "text": [
            "39209\n"
          ],
          "name": "stdout"
        }
      ]
    },
    {
      "cell_type": "code",
      "metadata": {
        "id": "rUBtPMgnCd9R",
        "colab_type": "code",
        "outputId": "4c37d95b-d930-44c1-d8d5-f88a47e27c11",
        "colab": {
          "base_uri": "https://localhost:8080/",
          "height": 917
        }
      },
      "source": [
        "# get test img\n",
        "import glob as glob\n",
        "# import os\n",
        "# from imageio import imread\n",
        "test_dir = os.path.abspath(r'C:\\users\\administrator\\Downloads\\output')\n",
        "os.path.exists(test_dir)\n",
        "\n",
        "test_images = []\n",
        "# PATH_TO_TEST_IMAGES = 'C:\\\\Users\\\\Alive\\\\Downloads\\\\new\\\\traffic-sign-detection-master\\\\test_images'\n",
        "PATH_TO_TEST_IMAGES = glob.glob(os.path.join(test_dir, '*.ppm'))\n",
        "for i in PATH_TO_TEST_IMAGES:\n",
        "    img = imread(i)\n",
        "    img = resize_cv(img)\n",
        "    test_images.append(img)\n",
        "test_images_stack = np.stack(test_images)\n",
        "print(test_images_stack[:1])\n",
        "# print(\"=============================\")\n",
        "# print(test_images)\n",
        "print(len(test_images_stack))\n",
        "\n"
      ],
      "execution_count": 0,
      "outputs": [
        {
          "output_type": "stream",
          "text": [
            "[[[[127 255 212]\n",
            "   [127 255 212]\n",
            "   [127 255 212]\n",
            "   ...\n",
            "   [127 255 212]\n",
            "   [127 255 212]\n",
            "   [127 255 212]]\n",
            "\n",
            "  [[127 255 212]\n",
            "   [127 255 212]\n",
            "   [127 255 212]\n",
            "   ...\n",
            "   [127 255 212]\n",
            "   [127 255 212]\n",
            "   [127 255 212]]\n",
            "\n",
            "  [[127 255 212]\n",
            "   [127 255 212]\n",
            "   [127 255 212]\n",
            "   ...\n",
            "   [127 255 212]\n",
            "   [127 255 212]\n",
            "   [127 255 212]]\n",
            "\n",
            "  ...\n",
            "\n",
            "  [[127 255 212]\n",
            "   [153 205 170]\n",
            "   [189 132 108]\n",
            "   ...\n",
            "   [137  59  45]\n",
            "   [136  68  50]\n",
            "   [135  74  52]]\n",
            "\n",
            "  [[127 255 212]\n",
            "   [146 186 154]\n",
            "   [172  88  71]\n",
            "   ...\n",
            "   [180 116 108]\n",
            "   [165 109  98]\n",
            "   [155 104  91]]\n",
            "\n",
            "  [[127 255 212]\n",
            "   [141 175 144]\n",
            "   [162  61  48]\n",
            "   ...\n",
            "   [206 151 147]\n",
            "   [183 134 128]\n",
            "   [167 122 115]]]]\n",
            "6\n"
          ],
          "name": "stdout"
        }
      ]
    },
    {
      "cell_type": "code",
      "metadata": {
        "id": "juHcDai3Cd9h",
        "colab_type": "code",
        "outputId": "f8d42f9e-6239-4f5e-f455-9c8b9970411b",
        "colab": {
          "base_uri": "https://localhost:8080/",
          "height": 439
        }
      },
      "source": [
        "\n",
        "fig = sns.distplot(output, kde=False, bins = 43, hist = True, hist_kws=dict(edgecolor=\"black\", linewidth=2))\n",
        "fig.set(title = \"Traffic signs frequency graph\",\n",
        "        xlabel = \"ClassId\",\n",
        "        ylabel = \"Frequency\")\n",
        "\n",
        "input_array = np.stack(list_images)\n",
        "train_y = keras.utils.np_utils.to_categorical(output)\n",
        "\n",
        "randomize = np.arange(len(input_array))\n",
        "np.random.shuffle(randomize)\n",
        "x = input_array[randomize]\n",
        "y = train_y[randomize]\n",
        "\n",
        "split_size = int(x.shape[0]*0.7)\n",
        "train_x, val_x = x[:split_size], x[split_size:]\n",
        "train1_y, val_y = y[:split_size], y[split_size:]\n",
        "\n",
        "# split_size = int(val_x.shape[0]*0.5)\n",
        "# val_x, test_x = val_x[:split_size], val_x[split_size:]\n",
        "# val_y, test_y = val_y[:split_size], val_y[split_size:]\n",
        "\n",
        "\n",
        "#the model\n",
        "hidden_num_units = 2048\n",
        "hidden_num_units1 = 1024\n",
        "hidden_num_units2 = 128\n",
        "output_num_units = 43\n",
        "\n",
        "epochs = 3\n",
        "batch_size = 16\n",
        "pool_size = (2, 2)\n",
        "input_shape = Input(shape=(32, 32,3))\n",
        "\n",
        "model = Sequential([\n",
        "\n",
        " Conv2D(16, (3, 3), activation='relu', input_shape=(64,64,3), padding='same'),\n",
        " BatchNormalization(),\n",
        "\n",
        " Conv2D(16, (3, 3), activation='relu', padding='same'),\n",
        " BatchNormalization(),\n",
        " MaxPooling2D(pool_size=pool_size),\n",
        " Dropout(0.2),\n",
        "    \n",
        " Conv2D(32, (3, 3), activation='relu', padding='same'),\n",
        " BatchNormalization(),\n",
        "    \n",
        " Conv2D(32, (3, 3), activation='relu', padding='same'),\n",
        " BatchNormalization(),\n",
        " MaxPooling2D(pool_size=pool_size),\n",
        " Dropout(0.2),\n",
        "    \n",
        " Conv2D(64, (3, 3), activation='relu', padding='same'),\n",
        " BatchNormalization(),\n",
        "    \n",
        " Conv2D(64, (3, 3), activation='relu', padding='same'),\n",
        " BatchNormalization(),\n",
        " MaxPooling2D(pool_size=pool_size),\n",
        " Dropout(0.2),\n",
        "\n",
        " Flatten(),\n",
        "\n",
        " Dense(units=hidden_num_units, activation='relu'),\n",
        " Dropout(0.3),\n",
        " Dense(units=hidden_num_units1, activation='relu'),\n",
        " Dropout(0.3),\n",
        " Dense(units=hidden_num_units2, activation='relu'),\n",
        " Dropout(0.3),\n",
        " Dense(units=output_num_units, input_dim=hidden_num_units, activation='softmax'),\n",
        "])\n",
        "\n",
        "model.compile(loss='categorical_crossentropy', optimizer=Adam(lr=1e-4), metrics=['accuracy'])\n",
        "\n",
        "### Training the model\n",
        "trained_model_conv = model.fit(train_x.reshape(-1,64,64,3), train1_y, epochs=epochs, batch_size=batch_size, validation_data=(val_x, val_y))                               \n",
        "\n",
        "### Prdicting the class\n",
        "pred = model.predict_classes(test_images_stack)\n",
        "print(pred)\n",
        "### Evaluating the model\n",
        "# model.evaluate(test_x, test_y)"
      ],
      "execution_count": 0,
      "outputs": [
        {
          "output_type": "stream",
          "text": [
            "Train on 27446 samples, validate on 11763 samples\n",
            "Epoch 1/3\n",
            "27446/27446 [==============================] - 1011s 37ms/step - loss: 2.2954 - accuracy: 0.3763 - val_loss: 0.6736 - val_accuracy: 0.8089\n",
            "Epoch 2/3\n",
            "27446/27446 [==============================] - 1069s 39ms/step - loss: 0.6175 - accuracy: 0.8112 - val_loss: 0.1621 - val_accuracy: 0.9543\n",
            "Epoch 3/3\n",
            "27446/27446 [==============================] - 1081s 39ms/step - loss: 0.2567 - accuracy: 0.9245 - val_loss: 0.0769 - val_accuracy: 0.9789\n",
            "[11 38 39  2  9 40]\n"
          ],
          "name": "stdout"
        },
        {
          "output_type": "display_data",
          "data": {
            "text/plain": [
              "<matplotlib.figure.Figure at 0x1bc13358>"
            ],
            "image/png": "[encoded data removed]"
          },
          "metadata": {
            "tags": [],
            "needs_background": "light"
          }
        }
      ]
    },
    {
      "cell_type": "markdown",
      "metadata": {
        "id": "xwdEWb5V9xdE",
        "colab_type": "text"
      },
      "source": [
        "Save model based on [this tutorial](https://machinelearningmastery.com/save-load-machine-learning-models-python-scikit-learn/)"
      ]
    },
    {
      "cell_type": "code",
      "metadata": {
        "id": "-Wfa0SZl8Odo",
        "colab_type": "code",
        "colab": {}
      },
      "source": [
        "import pickle"
      ],
      "execution_count": 0,
      "outputs": []
    },
    {
      "cell_type": "code",
      "metadata": {
        "id": "vl3uQNt7Cd9s",
        "colab_type": "code",
        "colab": {}
      },
      "source": [
        "filename = r'C:\\users\\administrator\\Downloads\\finalized_model.sav'\n",
        "pickle.dump(model, open(filename, 'wb'))"
      ],
      "execution_count": 0,
      "outputs": []
    },
    {
      "cell_type": "markdown",
      "metadata": {
        "id": "FUZMwntU-OrQ",
        "colab_type": "text"
      },
      "source": [
        "test if we have loaded the model sucessfully. \n",
        "\n",
        "the expected result is [11 38 39  2  9 40]"
      ]
    },
    {
      "cell_type": "code",
      "metadata": {
        "id": "8bHtlaBp9IJo",
        "colab_type": "code",
        "outputId": "ffbd3eff-638b-475e-fa50-c3fd158bdfd1",
        "colab": {
          "base_uri": "https://localhost:8080/",
          "height": 35
        }
      },
      "source": [
        "loaded_model = pickle.load(open(filename, 'rb'))\n",
        "loaded_pred = loaded_model.predict_classes(test_images_stack)\n",
        "print(loaded_pred)\n"
      ],
      "execution_count": 0,
      "outputs": [
        {
          "output_type": "stream",
          "text": [
            "[11 38 39  2  9 40]\n"
          ],
          "name": "stdout"
        }
      ]
    }
  ]
}