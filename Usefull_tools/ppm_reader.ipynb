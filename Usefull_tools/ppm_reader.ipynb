{
  "nbformat": 4,
  "nbformat_minor": 0,
  "metadata": {
    "colab": {
      "name": "ppm reader.ipynb",
      "provenance": []
    },
    "kernelspec": {
      "name": "python3",
      "display_name": "Python 3"
    }
  },
  "cells": [
    {
      "cell_type": "markdown",
      "metadata": {
        "id": "lEzFhXl_hf_r",
        "colab_type": "text"
      },
      "source": [
        "[![Open In Colab](https://colab.research.google.com/assets/colab-badge.svg)](https://colab.research.google.com/github/chxliou/Project--CS405/blob/master/usefull_tools/ppm_reader.ipynb#scrollTo=lEzFhXl_hf_r)"
      ]
    },
    {
      "cell_type": "code",
      "metadata": {
        "id": "qXPAUaI6NwvM",
        "colab_type": "code",
        "outputId": "3ed568e1-fc18-47f0-f787-e40904878269",
        "colab": {
          "base_uri": "https://localhost:8080/",
          "height": 127
        }
      },
      "source": [
        "from google.colab import drive\n",
        "drive.mount('/content/drive')"
      ],
      "execution_count": 0,
      "outputs": [
        {
          "output_type": "stream",
          "text": [
            "Go to this URL in a browser: https://accounts.google.com/o/oauth2/auth?client_id=947318989803-6bn6qk8qdgf4n4g3pfee6491hc0brc4i.apps.googleusercontent.com&redirect_uri=urn%3aietf%3awg%3aoauth%3a2.0%3aoob&response_type=code&scope=email%20https%3a%2f%2fwww.googleapis.com%2fauth%2fdocs.test%20https%3a%2f%2fwww.googleapis.com%2fauth%2fdrive%20https%3a%2f%2fwww.googleapis.com%2fauth%2fdrive.photos.readonly%20https%3a%2f%2fwww.googleapis.com%2fauth%2fpeopleapi.readonly\n",
            "\n",
            "Enter your authorization code:\n",
            "··········\n",
            "Mounted at /content/drive\n"
          ],
          "name": "stdout"
        }
      ]
    },
    {
      "cell_type": "code",
      "metadata": {
        "id": "HGgVme9mM_Cz",
        "colab_type": "code",
        "colab": {}
      },
      "source": [
        "import glob, os\n",
        "from matplotlib import pyplot as plt\n",
        "from PIL import Image\n",
        "from skimage.io import imread"
      ],
      "execution_count": 0,
      "outputs": []
    },
    {
      "cell_type": "code",
      "metadata": {
        "id": "m0p8kZA2NSd9",
        "colab_type": "code",
        "colab": {}
      },
      "source": [
        "def display_Images_From_DIR(OUTPUT_IMAGE_PATHS, columns = 4,figsize=(5, 5)):\n",
        "  n = len(OUTPUT_IMAGE_PATHS)\n",
        "  fig=plt.figure(figsize=figsize)\n",
        "  rows = int((n+columns-1)/columns)\n",
        "  i=1\n",
        "  for eachOutputImage in OUTPUT_IMAGE_PATHS:\n",
        "    img = imread(eachOutputImage)\n",
        "    fig.add_subplot(rows, columns, i)\n",
        "    plt.imshow(img)\n",
        "    i += 1\n",
        "  plt.show()"
      ],
      "execution_count": 0,
      "outputs": []
    },
    {
      "cell_type": "code",
      "metadata": {
        "id": "qPuOori7NVE0",
        "colab_type": "code",
        "outputId": "4ddb5c81-2e76-42fa-85d0-b31adaf911d5",
        "colab": {
          "base_uri": "https://localhost:8080/",
          "height": 35
        }
      },
      "source": [
        "PATH_TO_IMAGES_DIR = '/content/drive/My Drive/Data Sets/GTSRB/Final_Training/Images/00001'\n",
        "IMAGE_PATHS = glob.glob(os.path.join(PATH_TO_IMAGES_DIR, '00001_00001.ppm'))\n",
        "print(TEST_IMAGE_PATHS)"
      ],
      "execution_count": 0,
      "outputs": [
        {
          "output_type": "stream",
          "text": [
            "['/content/drive/My Drive/Data Sets/GTSRB/Final_Training/Images/00000/00001_00001.ppm']\n"
          ],
          "name": "stdout"
        }
      ]
    },
    {
      "cell_type": "code",
      "metadata": {
        "id": "iSLuzyTBNTNN",
        "colab_type": "code",
        "outputId": "430c972b-eebd-4e0d-f98b-2363274fbc31",
        "colab": {
          "base_uri": "https://localhost:8080/",
          "height": 320
        }
      },
      "source": [
        "display_Images_From_DIR(IMAGE_PATHS, 1,(5,5))"
      ],
      "execution_count": 0,
      "outputs": [
        {
          "output_type": "display_data",
          "data": {
            "image/png": "[encoded data removed]",
            "text/plain": [
              "<Figure size 360x360 with 1 Axes>"
            ]
          },
          "metadata": {
            "tags": []
          }
        }
      ]
    }
  ]
}
